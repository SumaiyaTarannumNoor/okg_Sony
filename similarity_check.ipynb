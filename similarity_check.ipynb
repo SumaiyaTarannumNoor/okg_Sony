{
 "cells": [
  {
   "cell_type": "code",
   "execution_count": 1,
   "metadata": {},
   "outputs": [
    {
     "name": "stderr",
     "output_type": "stream",
     "text": [
      "/home/ubuntu/anaconda3/envs/reflexion/lib/python3.11/site-packages/tqdm/auto.py:21: TqdmWarning: IProgress not found. Please update jupyter and ipywidgets. See https://ipywidgets.readthedocs.io/en/stable/user_install.html\n",
      "  from .autonotebook import tqdm as notebook_tqdm\n"
     ]
    },
    {
     "name": "stderr",
     "output_type": "stream",
     "text": [
      "Some weights of the model checkpoint at bert-base-multilingual-cased were not used when initializing BertModel: ['cls.predictions.transform.dense.weight', 'cls.seq_relationship.weight', 'cls.predictions.transform.dense.bias', 'cls.predictions.bias', 'cls.predictions.transform.LayerNorm.weight', 'cls.seq_relationship.bias', 'cls.predictions.decoder.weight', 'cls.predictions.transform.LayerNorm.bias']\n",
      "- This IS expected if you are initializing BertModel from the checkpoint of a model trained on another task or with another architecture (e.g. initializing a BertForSequenceClassification model from a BertForPreTraining model).\n",
      "- This IS NOT expected if you are initializing BertModel from the checkpoint of a model that you expect to be exactly identical (initializing a BertForSequenceClassification model from a BertForSequenceClassification model).\n",
      "Some weights of the model checkpoint at bert-base-multilingual-cased were not used when initializing BertModel: ['cls.predictions.transform.dense.weight', 'cls.seq_relationship.weight', 'cls.predictions.transform.dense.bias', 'cls.predictions.bias', 'cls.predictions.transform.LayerNorm.weight', 'cls.seq_relationship.bias', 'cls.predictions.decoder.weight', 'cls.predictions.transform.LayerNorm.bias']\n",
      "- This IS expected if you are initializing BertModel from the checkpoint of a model trained on another task or with another architecture (e.g. initializing a BertForSequenceClassification model from a BertForPreTraining model).\n",
      "- This IS NOT expected if you are initializing BertModel from the checkpoint of a model that you expect to be exactly identical (initializing a BertForSequenceClassification model from a BertForSequenceClassification model).\n"
     ]
    }
   ],
   "source": [
    "from sklearn.metrics.pairwise import cosine_similarity\n",
    "from transformers import AutoTokenizer, AutoModel\n",
    "from bert_score import score as bert_score\n",
    "from bert_score import BERTScorer\n",
    "import torch\n",
    "\n",
    "# Load the BERT model\n",
    "tokenizer = AutoTokenizer.from_pretrained(\"bert-base-multilingual-cased\")\n",
    "bert_model = AutoModel.from_pretrained(\"bert-base-multilingual-cased\")\n",
    "## Initialize the BERTScorer for multilingual BERT or a Japanese-specific BERT\n",
    "scorer = BERTScorer(model_type=\"bert-base-multilingual-cased\", lang=\"ja\", device='cuda' if torch.cuda.is_available() else 'cpu')\n",
    "\n",
    "def cosine_similarity_calc(str1, str2):\n",
    "    # Initialize MeCab Tokenizer\n",
    "    #tokenizer = MeCab.Tagger(\"-Owakati\")\n",
    "    \n",
    "    # Tokenize and encode the strings\n",
    "    inputs_1 = tokenizer(str1, return_tensors='pt', truncation=True, padding=True)\n",
    "    #print(str1)\n",
    "    #print(str(inputs_1))\n",
    "    inputs_2 = tokenizer(str2, return_tensors='pt', truncation=True, padding=True)\n",
    "    #print(str2)\n",
    "    #print(str(inputs_2))\n",
    "    \n",
    "    # Get embeddings from BERT model\n",
    "    with torch.no_grad():\n",
    "        outputs_1 = bert_model(**inputs_1)\n",
    "        outputs_2 = bert_model(**inputs_2)\n",
    "    \n",
    "    # Get the embeddings for the [CLS] token\n",
    "    # This represents the pooled output for each sentence\n",
    "    embedding_1 = outputs_1.last_hidden_state[:, 0, :].squeeze().numpy()\n",
    "    embedding_2 = outputs_2.last_hidden_state[:, 0, :].squeeze().numpy()\n",
    "\n",
    "    # Reshape the embeddings to 2D arrays (1, -1) to ensure proper input to cosine_similarity\n",
    "    embedding_1 = embedding_1.reshape(1, -1)\n",
    "    embedding_2 = embedding_2.reshape(1, -1)\n",
    "\n",
    "    print(embedding_1)\n",
    "    print(embedding_2)\n",
    "    \n",
    "    # Calculate Cosine similarity\n",
    "    cos_sim = cosine_similarity(embedding_1, embedding_2)\n",
    "    return cos_sim[0, 0]"
   ]
  },
  {
   "cell_type": "code",
   "execution_count": 9,
   "metadata": {},
   "outputs": [],
   "source": [
    "import numpy as np\n",
    "def cosine_similarity_calc_word_mean(str1, str2):\n",
    "    \n",
    "    def get_mean_embedding(sentence):\n",
    "        # Tokenize and encode the sentence\n",
    "        inputs = tokenizer(sentence, return_tensors='pt', truncation=True, padding=True)\n",
    "        \n",
    "        # Get embeddings from BERT model\n",
    "        with torch.no_grad():\n",
    "            outputs = bert_model(**inputs)\n",
    "        \n",
    "        # Get the embeddings for all tokens\n",
    "        embeddings = outputs.last_hidden_state.squeeze(0).numpy()\n",
    "        \n",
    "        # Calculate the mean of the embeddings (mean pooling)\n",
    "        mean_embedding = np.mean(embeddings, axis=0)\n",
    "        \n",
    "        return mean_embedding\n",
    "    \n",
    "    # Calculate mean embeddings for both strings\n",
    "    mean_embedding_1 = get_mean_embedding(str1)\n",
    "    mean_embedding_2 = get_mean_embedding(str2)\n",
    "    \n",
    "    # Reshape the embeddings to 2D arrays (1, -1) to ensure proper input to cosine_similarity\n",
    "    mean_embedding_1 = mean_embedding_1.reshape(1, -1)\n",
    "    mean_embedding_2 = mean_embedding_2.reshape(1, -1)\n",
    "    \n",
    "    # Calculate Cosine similarity\n",
    "    cos_sim = cosine_similarity(mean_embedding_1, mean_embedding_2)\n",
    "    \n",
    "    return cos_sim[0, 0]"
   ]
  },
  {
   "cell_type": "code",
   "execution_count": 4,
   "metadata": {},
   "outputs": [
    {
     "name": "stdout",
     "output_type": "stream",
     "text": [
      "Cosine Similarity between 'ソニーのミラーレス' and 'sony ミラーレス': 0.7652407884597778\n",
      "Cosine Similarity between 'ソニーのミラーレス' and 'sonyミラーレス': 0.7750669121742249\n",
      "Cosine Similarity between 'ソニーのミラーレス' and 'ソニー ミラーレス 一眼': 0.7909582853317261\n",
      "Cosine Similarity between 'ソニーのミラーレス' and 'ソニー カメラ　ミラーレス 一眼': 0.7931433320045471\n",
      "Cosine Similarity between 'ソニーのミラーレス' and 'ミラーレス ソニー': 0.8153504729270935\n",
      "Cosine Similarity between 'ソニーのミラーレス' and 'ミラーレス　Sony': 0.6884340047836304\n",
      "Cosine Similarity between 'ソニーのミラーレス' and 'ミラーレス　Sony': 0.6884340047836304\n",
      "Cosine Similarity between 'sony ミラーレス' and 'sonyミラーレス': 0.9181486964225769\n",
      "Cosine Similarity between 'sony ミラーレス' and 'ソニー ミラーレス 一眼': 0.7477536201477051\n",
      "Cosine Similarity between 'sony ミラーレス' and 'ソニー カメラ　ミラーレス 一眼': 0.7243062257766724\n",
      "Cosine Similarity between 'sony ミラーレス' and 'ミラーレス ソニー': 0.7729085683822632\n",
      "Cosine Similarity between 'sony ミラーレス' and 'ミラーレス　Sony': 0.7402163743972778\n"
     ]
    },
    {
     "name": "stdout",
     "output_type": "stream",
     "text": [
      "Cosine Similarity between 'sony ミラーレス' and 'ミラーレス　Sony': 0.7402163743972778\n",
      "Cosine Similarity between 'sonyミラーレス' and 'ソニー ミラーレス 一眼': 0.7049102783203125\n",
      "Cosine Similarity between 'sonyミラーレス' and 'ソニー カメラ　ミラーレス 一眼': 0.7149333953857422\n",
      "Cosine Similarity between 'sonyミラーレス' and 'ミラーレス ソニー': 0.7229804992675781\n",
      "Cosine Similarity between 'sonyミラーレス' and 'ミラーレス　Sony': 0.7093991041183472\n",
      "Cosine Similarity between 'sonyミラーレス' and 'ミラーレス　Sony': 0.7093991041183472\n",
      "Cosine Similarity between 'ソニー ミラーレス 一眼' and 'ソニー カメラ　ミラーレス 一眼': 0.9431635141372681\n",
      "Cosine Similarity between 'ソニー ミラーレス 一眼' and 'ミラーレス ソニー': 0.778666615486145\n",
      "Cosine Similarity between 'ソニー ミラーレス 一眼' and 'ミラーレス　Sony': 0.6932469606399536\n",
      "Cosine Similarity between 'ソニー ミラーレス 一眼' and 'ミラーレス　Sony': 0.6932469606399536\n",
      "Cosine Similarity between 'ソニー カメラ　ミラーレス 一眼' and 'ミラーレス ソニー': 0.7496322989463806\n",
      "Cosine Similarity between 'ソニー カメラ　ミラーレス 一眼' and 'ミラーレス　Sony': 0.6856372356414795\n",
      "Cosine Similarity between 'ソニー カメラ　ミラーレス 一眼' and 'ミラーレス　Sony': 0.6856372356414795\n",
      "Cosine Similarity between 'ミラーレス ソニー' and 'ミラーレス　Sony': 0.8337732553482056\n",
      "Cosine Similarity between 'ミラーレス ソニー' and 'ミラーレス　Sony': 0.8337732553482056\n",
      "Cosine Similarity between 'ミラーレス　Sony' and 'ミラーレス　Sony': 0.9999998807907104\n"
     ]
    }
   ],
   "source": [
    "keywords = [\n",
    "    \"ソニーのミラーレス\",\n",
    "    \"sony ミラーレス\",\n",
    "    \"sonyミラーレス\",\n",
    "    \"ソニー ミラーレス 一眼\",\n",
    "    \"ソニー カメラ　ミラーレス 一眼\",\n",
    "    \"ミラーレス ソニー\",\n",
    "    \"ミラーレス　Sony\",\n",
    "    \"ミラーレス　Sony\"\n",
    "]\n",
    "\n",
    "# Initialize an empty dictionary to store the results\n",
    "similarity_scores = {}\n",
    "\n",
    "# Loop through each combination of keywords\n",
    "for i in range(len(keywords)):\n",
    "    for j in range(i + 1, len(keywords)):\n",
    "        kw1 = keywords[i]\n",
    "        kw2 = keywords[j]\n",
    "        # Calculate cosine similarity\n",
    "        score = cosine_similarity_calc_word_mean(kw1, kw2)\n",
    "        # Store the result in the dictionary\n",
    "        similarity_scores[(kw1, kw2)] = score\n",
    "        print(f\"Cosine Similarity (word embedding mean)between '{kw1}' and '{kw2}': {score}\")\n",
    "\n"
   ]
  },
  {
   "cell_type": "code",
   "execution_count": 10,
   "metadata": {},
   "outputs": [
    {
     "name": "stdout",
     "output_type": "stream",
     "text": [
      "Cosine Similarity (word embedding mean)between 'ソニーのミラーレス' and '一眼レフカメラ': 0.6268917322158813\n",
      "Cosine Similarity (word embedding mean)between 'ソニーのミラーレス' and 'ソニー アルファ9': 0.6496142745018005\n",
      "Cosine Similarity (word embedding mean)between 'ソニーのミラーレス' and 'アルファ7r': 0.4612368941307068\n",
      "Cosine Similarity (word embedding mean)between 'ソニーのミラーレス' and 'ソニー カメラ　ミラーレス 一眼': 0.7931433320045471\n",
      "Cosine Similarity (word embedding mean)between 'ソニーのミラーレス' and '加賀屋の女将': 0.5742285251617432\n",
      "Cosine Similarity (word embedding mean)between 'ソニーのミラーレス' and 'sonyカメラ新製品': 0.576417088508606\n",
      "Cosine Similarity (word embedding mean)between 'ソニーのミラーレス' and '名古屋ソニーストア': 0.6739460229873657\n",
      "Cosine Similarity (word embedding mean)between '一眼レフカメラ' and 'ソニー アルファ9': 0.6203197836875916\n",
      "Cosine Similarity (word embedding mean)between '一眼レフカメラ' and 'アルファ7r': 0.553810715675354\n",
      "Cosine Similarity (word embedding mean)between '一眼レフカメラ' and 'ソニー カメラ　ミラーレス 一眼': 0.8340797424316406\n",
      "Cosine Similarity (word embedding mean)between '一眼レフカメラ' and '加賀屋の女将': 0.5107202529907227\n",
      "Cosine Similarity (word embedding mean)between '一眼レフカメラ' and 'sonyカメラ新製品': 0.7401528358459473\n",
      "Cosine Similarity (word embedding mean)between '一眼レフカメラ' and '名古屋ソニーストア': 0.62798011302948\n",
      "Cosine Similarity (word embedding mean)between 'ソニー アルファ9' and 'アルファ7r': 0.812818169593811\n",
      "Cosine Similarity (word embedding mean)between 'ソニー アルファ9' and 'ソニー カメラ　ミラーレス 一眼': 0.6774099469184875\n",
      "Cosine Similarity (word embedding mean)between 'ソニー アルファ9' and '加賀屋の女将': 0.4771691560745239\n",
      "Cosine Similarity (word embedding mean)between 'ソニー アルファ9' and 'sonyカメラ新製品': 0.6175889372825623\n",
      "Cosine Similarity (word embedding mean)between 'ソニー アルファ9' and '名古屋ソニーストア': 0.6744896173477173\n",
      "Cosine Similarity (word embedding mean)between 'アルファ7r' and 'ソニー カメラ　ミラーレス 一眼': 0.5063112378120422\n",
      "Cosine Similarity (word embedding mean)between 'アルファ7r' and '加賀屋の女将': 0.41076043248176575\n",
      "Cosine Similarity (word embedding mean)between 'アルファ7r' and 'sonyカメラ新製品': 0.5170171856880188\n",
      "Cosine Similarity (word embedding mean)between 'アルファ7r' and '名古屋ソニーストア': 0.5104892253875732\n",
      "Cosine Similarity (word embedding mean)between 'ソニー カメラ　ミラーレス 一眼' and '加賀屋の女将': 0.5462549924850464\n",
      "Cosine Similarity (word embedding mean)between 'ソニー カメラ　ミラーレス 一眼' and 'sonyカメラ新製品': 0.6730207204818726\n",
      "Cosine Similarity (word embedding mean)between 'ソニー カメラ　ミラーレス 一眼' and '名古屋ソニーストア': 0.67937171459198\n",
      "Cosine Similarity (word embedding mean)between '加賀屋の女将' and 'sonyカメラ新製品': 0.5137819051742554\n",
      "Cosine Similarity (word embedding mean)between '加賀屋の女将' and '名古屋ソニーストア': 0.5313267707824707\n",
      "Cosine Similarity (word embedding mean)between 'sonyカメラ新製品' and '名古屋ソニーストア': 0.6300025582313538\n"
     ]
    }
   ],
   "source": [
    "keywords = [\n",
    "    \"ソニーのミラーレス\",\n",
    "    \"一眼レフカメラ\",\n",
    "    \"ソニー アルファ9\",\n",
    "    \"アルファ7r\",\n",
    "    \"ソニー カメラ　ミラーレス 一眼\",\n",
    "    \"加賀屋の女将\",\n",
    "    \"sonyカメラ新製品\",\n",
    "    \"名古屋ソニーストア\"\n",
    "]\n",
    "\n",
    "# Initialize an empty dictionary to store the results\n",
    "similarity_scores = {}\n",
    "\n",
    "# Loop through each combination of keywords\n",
    "for i in range(len(keywords)):\n",
    "    for j in range(i + 1, len(keywords)):\n",
    "        kw1 = keywords[i]\n",
    "        kw2 = keywords[j]\n",
    "        # Calculate cosine similarity\n",
    "        score = cosine_similarity_calc_word_mean(kw1, kw2)\n",
    "        # Store the result in the dictionary\n",
    "        similarity_scores[(kw1, kw2)] = score\n",
    "        print(f\"Cosine Similarity (word embedding mean)between '{kw1}' and '{kw2}': {score}\")\n"
   ]
  },
  {
   "cell_type": "code",
   "execution_count": 5,
   "metadata": {},
   "outputs": [
    {
     "name": "stdout",
     "output_type": "stream",
     "text": [
      "Cosine Similarity between 'ソニーのミラーレス' and 'sony ミラーレス': 0.9493904709815979\n",
      "Cosine Similarity between 'ソニーのミラーレス' and 'sonyミラーレス': 0.9430749416351318\n",
      "Cosine Similarity between 'ソニーのミラーレス' and 'ソニー ミラーレス 一眼': 0.9245832562446594\n",
      "Cosine Similarity between 'ソニーのミラーレス' and 'ソニー カメラ　ミラーレス 一眼': 0.9214127063751221\n",
      "Cosine Similarity between 'ソニーのミラーレス' and 'ミラーレス ソニー': 0.9427693486213684\n",
      "Cosine Similarity between 'ソニーのミラーレス' and 'ミラーレス　Sony': 0.9214802980422974\n",
      "Cosine Similarity between 'ソニーのミラーレス' and 'ミラーレス　Sony': 0.9214802980422974\n",
      "Cosine Similarity between 'sony ミラーレス' and 'sonyミラーレス': 0.9748486876487732\n",
      "Cosine Similarity between 'sony ミラーレス' and 'ソニー ミラーレス 一眼': 0.9241964817047119\n",
      "Cosine Similarity between 'sony ミラーレス' and 'ソニー カメラ　ミラーレス 一眼': 0.9202791452407837\n",
      "Cosine Similarity between 'sony ミラーレス' and 'ミラーレス ソニー': 0.9393922090530396\n",
      "Cosine Similarity between 'sony ミラーレス' and 'ミラーレス　Sony': 0.9362118244171143\n",
      "Cosine Similarity between 'sony ミラーレス' and 'ミラーレス　Sony': 0.9362118244171143\n",
      "Cosine Similarity between 'sonyミラーレス' and 'ソニー ミラーレス 一眼': 0.9066891074180603\n",
      "Cosine Similarity between 'sonyミラーレス' and 'ソニー カメラ　ミラーレス 一眼': 0.9056848287582397\n",
      "Cosine Similarity between 'sonyミラーレス' and 'ミラーレス ソニー': 0.918495237827301\n",
      "Cosine Similarity between 'sonyミラーレス' and 'ミラーレス　Sony': 0.917488694190979\n",
      "Cosine Similarity between 'sonyミラーレス' and 'ミラーレス　Sony': 0.917488694190979\n",
      "Cosine Similarity between 'ソニー ミラーレス 一眼' and 'ソニー カメラ　ミラーレス 一眼': 0.9903705716133118\n",
      "Cosine Similarity between 'ソニー ミラーレス 一眼' and 'ミラーレス ソニー': 0.9026302099227905\n",
      "Cosine Similarity between 'ソニー ミラーレス 一眼' and 'ミラーレス　Sony': 0.8953945636749268\n",
      "Cosine Similarity between 'ソニー ミラーレス 一眼' and 'ミラーレス　Sony': 0.8953945636749268\n",
      "Cosine Similarity between 'ソニー カメラ　ミラーレス 一眼' and 'ミラーレス ソニー': 0.8972901105880737\n",
      "Cosine Similarity between 'ソニー カメラ　ミラーレス 一眼' and 'ミラーレス　Sony': 0.8920406103134155\n",
      "Cosine Similarity between 'ソニー カメラ　ミラーレス 一眼' and 'ミラーレス　Sony': 0.8920406103134155\n",
      "Cosine Similarity between 'ミラーレス ソニー' and 'ミラーレス　Sony': 0.9526076316833496\n",
      "Cosine Similarity between 'ミラーレス ソニー' and 'ミラーレス　Sony': 0.9526076316833496\n",
      "Cosine Similarity between 'ミラーレス　Sony' and 'ミラーレス　Sony': 1.0\n"
     ]
    }
   ],
   "source": [
    "# Initialize an empty dictionary to store the results\n",
    "similarity_scores = {}\n",
    "\n",
    "# Loop through each combination of keywords\n",
    "for i in range(len(keywords)):\n",
    "    for j in range(i + 1, len(keywords)):\n",
    "        kw1 = keywords[i]\n",
    "        kw2 = keywords[j]\n",
    "        # Calculate cosine similarity\n",
    "        score = cosine_similarity_calc(kw1, kw2)\n",
    "        # Store the result in the dictionary\n",
    "        similarity_scores[(kw1, kw2)] = score\n",
    "        print(f\"Cosine Similarity between '{kw1}' and '{kw2}': {score}\")"
   ]
  },
  {
   "cell_type": "code",
   "execution_count": 8,
   "metadata": {},
   "outputs": [
    {
     "name": "stdout",
     "output_type": "stream",
     "text": [
      "Bert Socre between 'ソニーのミラーレス' and 'sony ミラーレス': 0.7925456762313843\n",
      "Bert Socre between 'ソニーのミラーレス' and 'sonyミラーレス': 0.8074564933776855\n",
      "Bert Socre between 'ソニーのミラーレス' and 'ソニー ミラーレス 一眼': 0.8578368425369263\n",
      "Bert Socre between 'ソニーのミラーレス' and 'ソニー カメラ　ミラーレス 一眼': 0.8555269837379456\n",
      "Bert Socre between 'ソニーのミラーレス' and 'ミラーレス ソニー': 0.8404742479324341\n",
      "Bert Socre between 'ソニーのミラーレス' and 'ミラーレス　Sony': 0.7713765501976013\n",
      "Bert Socre between 'ソニーのミラーレス' and 'ミラーレス　Sony': 0.7713765501976013\n",
      "Bert Socre between 'sony ミラーレス' and 'sonyミラーレス': 0.9200166463851929\n",
      "Bert Socre between 'sony ミラーレス' and 'ソニー ミラーレス 一眼': 0.8400001525878906\n",
      "Bert Socre between 'sony ミラーレス' and 'ソニー カメラ　ミラーレス 一眼': 0.8351632356643677\n",
      "Bert Socre between 'sony ミラーレス' and 'ミラーレス ソニー': 0.8227881193161011\n",
      "Bert Socre between 'sony ミラーレス' and 'ミラーレス　Sony': 0.8079932928085327\n",
      "Bert Socre between 'sony ミラーレス' and 'ミラーレス　Sony': 0.8079932928085327\n",
      "Bert Socre between 'sonyミラーレス' and 'ソニー ミラーレス 一眼': 0.7965103983879089\n"
     ]
    },
    {
     "name": "stdout",
     "output_type": "stream",
     "text": [
      "Bert Socre between 'sonyミラーレス' and 'ソニー カメラ　ミラーレス 一眼': 0.7938821911811829\n",
      "Bert Socre between 'sonyミラーレス' and 'ミラーレス ソニー': 0.7833517789840698\n",
      "Bert Socre between 'sonyミラーレス' and 'ミラーレス　Sony': 0.7730127573013306\n",
      "Bert Socre between 'sonyミラーレス' and 'ミラーレス　Sony': 0.7730127573013306\n",
      "Bert Socre between 'ソニー ミラーレス 一眼' and 'ソニー カメラ　ミラーレス 一眼': 0.9741199016571045\n",
      "Bert Socre between 'ソニー ミラーレス 一眼' and 'ミラーレス ソニー': 0.8389328718185425\n",
      "Bert Socre between 'ソニー ミラーレス 一眼' and 'ミラーレス　Sony': 0.7756262421607971\n",
      "Bert Socre between 'ソニー ミラーレス 一眼' and 'ミラーレス　Sony': 0.7756262421607971\n",
      "Bert Socre between 'ソニー カメラ　ミラーレス 一眼' and 'ミラーレス ソニー': 0.7842466831207275\n",
      "Bert Socre between 'ソニー カメラ　ミラーレス 一眼' and 'ミラーレス　Sony': 0.7391722798347473\n",
      "Bert Socre between 'ソニー カメラ　ミラーレス 一眼' and 'ミラーレス　Sony': 0.7391722798347473\n",
      "Bert Socre between 'ミラーレス ソニー' and 'ミラーレス　Sony': 0.8803771138191223\n",
      "Bert Socre between 'ミラーレス ソニー' and 'ミラーレス　Sony': 0.8803771138191223\n",
      "Bert Socre between 'ミラーレス　Sony' and 'ミラーレス　Sony': 1.0\n"
     ]
    }
   ],
   "source": [
    "# Initialize an empty dictionary to store the results\n",
    "similarity_scores = {}\n",
    "\n",
    "# Loop through each combination of keywords\n",
    "for i in range(len(keywords)):\n",
    "    for j in range(i + 1, len(keywords)):\n",
    "        kw1 = keywords[i]\n",
    "        kw2 = keywords[j]\n",
    "        # Calculate cosine similarity\n",
    "        P, _, _ = scorer.score([kw1], [kw2])\n",
    "        print(f\"Bert Socre between '{kw1}' and '{kw2}': {P[0]}\")"
   ]
  },
  {
   "cell_type": "code",
   "execution_count": 21,
   "metadata": {},
   "outputs": [
    {
     "data": {
      "text/plain": [
       "(tensor([0.8672]), tensor([0.8928]), tensor([0.8798]))"
      ]
     },
     "execution_count": 21,
     "metadata": {},
     "output_type": "execute_result"
    }
   ],
   "source": []
  }
 ],
 "metadata": {
  "kernelspec": {
   "display_name": "reflexion",
   "language": "python",
   "name": "python3"
  },
  "language_info": {
   "codemirror_mode": {
    "name": "ipython",
    "version": 3
   },
   "file_extension": ".py",
   "mimetype": "text/x-python",
   "name": "python",
   "nbconvert_exporter": "python",
   "pygments_lexer": "ipython3",
   "version": "3.11.8"
  }
 },
 "nbformat": 4,
 "nbformat_minor": 2
}
